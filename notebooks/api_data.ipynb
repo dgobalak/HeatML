{
 "cells": [
  {
   "cell_type": "code",
   "execution_count": null,
   "source": [
    "import pandas as pd\r\n",
    "import json\r\n",
    "import plotly\r\n",
    "import plotly.express as px\r\n",
    "import datetime as dt\r\n",
    "from  geopy.geocoders import Nominatim\r\n",
    "import meteomatics.api as weather\r\n",
    "from api_config import *"
   ],
   "outputs": [],
   "metadata": {}
  },
  {
   "cell_type": "code",
   "execution_count": null,
   "source": [
    "geolocator = Nominatim(user_agent=\"HeatML\")\r\n",
    "loc = geolocator.geocode(\"Hong Kong\"+','+ \"China\")\r\n",
    "lat = loc.latitude\r\n",
    "lng = loc.longitude\r\n",
    "\r\n",
    "curr_dt = dt.datetime.utcnow()\r\n",
    "prev_dt = curr_dt - dt.timedelta(days=30)\r\n",
    "curr_dt = dt.datetime.utcnow() + dt.timedelta(days=1)\r\n",
    "curr_dt = str(curr_dt.isoformat()) + \"Z\"\r\n",
    "prev_dt = str(prev_dt.isoformat()) + \"Z\"\r\n",
    "interval = 6 # hours"
   ],
   "outputs": [],
   "metadata": {}
  },
  {
   "cell_type": "code",
   "execution_count": null,
   "source": [
    "# url=f\"https://api.meteomatics.com/{prev_dt}--{curr_dt}:PT{interval}H/t_apparent:F/{lat},{lng}/json?model=mix\"\r\n",
    "url=f\"https://api.meteomatics.com/{prev_dt}--{curr_dt}:PT{interval}H/t_apparent:F,soil_moisture_deficit:mm,forest_fire_warning:idx,co:ugm3,o3:ugm3,no2:ugm3,t_1000m:F,t_2m:F/{lat},{lng}/json?model=mix\""
   ],
   "outputs": [],
   "metadata": {}
  },
  {
   "cell_type": "code",
   "execution_count": null,
   "source": [
    "df = weather.query_api(url=url, username=USER, password=PASSWORD)\r\n",
    "response = dict(df.json())\r\n",
    "response"
   ],
   "outputs": [],
   "metadata": {}
  },
  {
   "cell_type": "code",
   "execution_count": null,
   "source": [
    "data = response[\"data\"]\r\n",
    "apparent, soil, fire, co, o3, no2, t1000, t2 = data\r\n",
    "apparent, soil, fire, co, o3, no2, t1000, t2 = apparent[\"coordinates\"][0][\"dates\"], soil[\"coordinates\"][0][\"dates\"], fire[\"coordinates\"][0][\"dates\"], co[\"coordinates\"][0][\"dates\"], o3[\"coordinates\"][0][\"dates\"], no2[\"coordinates\"][0][\"dates\"], t1000[\"coordinates\"][0][\"dates\"], t2[\"coordinates\"][0][\"dates\"]"
   ],
   "outputs": [],
   "metadata": {}
  },
  {
   "cell_type": "code",
   "execution_count": null,
   "source": [
    "df1 = pd.DataFrame(apparent).rename(columns={\"value\": \"Heat Index (F)\", \"date\": \"Datetime\"})\r\n",
    "df2 = pd.DataFrame(soil).rename(columns={\"value\": \"Soil Moisture (mm)\", \"date\": \"Datetime\"})\r\n",
    "df3 = pd.DataFrame(fire).rename(columns={\"value\": \"Forest Fire Index\", \"date\": \"Datetime\"})\r\n",
    "df4 = pd.DataFrame(co).rename(columns={\"value\": \"Carbon Monoxide (ugm3)\", \"date\": \"Datetime\"})\r\n",
    "df5 = pd.DataFrame(o3).rename(columns={\"value\": \"Ozone (ugm3)\", \"date\": \"Datetime\"})\r\n",
    "df6 = pd.DataFrame(no2).rename(columns={\"value\": \"Nitrogen Dioxide (ugm3)\", \"date\": \"Datetime\"})\r\n",
    "df7 = pd.DataFrame(t1000).rename(columns={\"value\": \"Temp @ 1km (F)\", \"date\": \"Datetime\"})\r\n",
    "df8 = pd.DataFrame(t2).rename(columns={\"value\": \"Temp @ 2m (F)\", \"date\": \"Datetime\"})\r\n",
    "df = df1\r\n",
    "df[\"Soil Moisture (mm)\"] = df2[\"Soil Moisture (mm)\"]\r\n",
    "df[\"Forest Fire Index\"] = df3[\"Forest Fire Index\"]\r\n",
    "df[\"Carbon Monoxide (ugm3)\"] = df4[\"Carbon Monoxide (ugm3)\"]\r\n",
    "df[\"Ozone (ugm3)\"] = df5[\"Ozone (ugm3)\"]\r\n",
    "df[\"Nitrogen Dioxide (ugm3)\"] = df6[\"Nitrogen Dioxide (ugm3)\"]\r\n",
    "df[\"Temp Diff 1km vs 2m (F)\"] = df7[\"Temp @ 1km (F)\"].subtract(df8[\"Temp @ 2m (F)\"])\r\n",
    "df\r\n"
   ],
   "outputs": [],
   "metadata": {}
  },
  {
   "cell_type": "code",
   "execution_count": null,
   "source": [
    "fig = px.line(df, x='Datetime', y=[\"Ozone (ugm3)\", \"Nitrogen Dioxide (ugm3)\", \"Temp Diff 1km vs 2m (F)\"])\r\n",
    "fig"
   ],
   "outputs": [],
   "metadata": {}
  },
  {
   "cell_type": "code",
   "execution_count": null,
   "source": [
    "start = str(dt.datetime.utcnow().isoformat()) + \"Z\"\r\n",
    "range = (df['date'] > start)\r\n",
    "df1 = df.loc[range]\r\n",
    "df1"
   ],
   "outputs": [],
   "metadata": {}
  },
  {
   "cell_type": "code",
   "execution_count": null,
   "source": [
    "max_hs = df1[\"value\"].max()"
   ],
   "outputs": [],
   "metadata": {}
  },
  {
   "cell_type": "code",
   "execution_count": null,
   "source": [
    "from scipy import stats\r\n",
    "\r\n",
    "df.date = pd.to_datetime(df.date)\r\n",
    "df['date_ordinal'] = pd.to_datetime(df['date']).map(dt.datetime.toordinal)\r\n",
    "slope, intercept, r_value, p_value, std_err = stats.linregress(df['date_ordinal'], df['value'])\r\n",
    "print(slope,\r\n",
    "intercept,\r\n",
    "r_value,p_value,\r\n",
    "std_err)"
   ],
   "outputs": [],
   "metadata": {}
  }
 ],
 "metadata": {
  "orig_nbformat": 4,
  "language_info": {
   "name": "python",
   "version": "3.8.10",
   "mimetype": "text/x-python",
   "codemirror_mode": {
    "name": "ipython",
    "version": 3
   },
   "pygments_lexer": "ipython3",
   "nbconvert_exporter": "python",
   "file_extension": ".py"
  },
  "kernelspec": {
   "name": "python3",
   "display_name": "Python 3.8.10 64-bit ('.venv': venv)"
  },
  "interpreter": {
   "hash": "fa6836110a83db4b02353cc258d18bf7a0251b9c92dab5e09abb5c94f9bc153a"
  }
 },
 "nbformat": 4,
 "nbformat_minor": 2
}