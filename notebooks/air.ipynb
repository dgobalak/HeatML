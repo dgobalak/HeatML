{
 "cells": [
  {
   "cell_type": "code",
   "execution_count": null,
   "source": [
    "import pandas as pd\r\n",
    "import json\r\n",
    "import datetime as dt\r\n",
    "from  geopy.geocoders import Nominatim\r\n",
    "import meteomatics.api as weather\r\n",
    "import seaborn as sns\r\n",
    "import matplotlib.pyplot as plt\r\n",
    "from api_config import *"
   ],
   "outputs": [],
   "metadata": {}
  },
  {
   "cell_type": "code",
   "execution_count": null,
   "source": [
    "df_O3 = pd.read_csv(\"datasets/O3 Summary.csv\")\r\n",
    "df_NO2 = pd.read_csv(\"datasets/NO2 Summary.csv\")"
   ],
   "outputs": [],
   "metadata": {}
  },
  {
   "cell_type": "code",
   "execution_count": null,
   "source": [
    "df_O3 = df_O3.loc[(df_O3[\"O3 Number Density (cm^-3)\"] > 0 )]\r\n",
    "df_NO2 = df_NO2.loc[(df_NO2[\"NO2 Number Density (cm^-3)\"] > 0 )]"
   ],
   "outputs": [],
   "metadata": {}
  },
  {
   "cell_type": "code",
   "execution_count": null,
   "source": [
    "import numpy as np\r\n",
    "df_O3['log_O3'] = np.log2(df_O3['O3 Number Density (cm^-3)'])\r\n",
    "df_NO2['log_NO2'] = np.log2(df_NO2['NO2 Number Density (cm^-3)'])\r\n"
   ],
   "outputs": [],
   "metadata": {}
  },
  {
   "cell_type": "code",
   "execution_count": null,
   "source": [
    "df_O3_sample = df_O3.sample(n=1000) \r\n",
    "df_NO2_sample = df_NO2.sample(n=1000) "
   ],
   "outputs": [],
   "metadata": {}
  },
  {
   "cell_type": "code",
   "execution_count": null,
   "source": [
    "df_O3_sample.hist(column=\"log_O3\", bins=int(5))\r\n",
    "df_NO2_sample.hist(column=\"log_NO2\", bins=int(5))"
   ],
   "outputs": [],
   "metadata": {}
  },
  {
   "cell_type": "code",
   "execution_count": null,
   "source": [
    "# df_O3_sample \r\n",
    "df_NO2_sample"
   ],
   "outputs": [],
   "metadata": {}
  },
  {
   "cell_type": "code",
   "execution_count": null,
   "source": [
    "for i, row in df_NO2_sample.iterrows():\r\n",
    "    dt = pd.to_datetime(row[\"Time (TAI 1993)\"])\r\n",
    "    dt = str(dt.isoformat()) + \"Z\"\r\n",
    "    alt = row[\" Altitude (km)\"]\r\n",
    "    lat = row[\"Latitude (degree)\"]\r\n",
    "    lng = row[\"Longitude (degree)\"]\r\n",
    "    no2 = row[\"log_NO2\"]\r\n",
    "    print(dt, alt,lat,lng,no2)\r\n",
    "    # tmp = get_data()\r\n",
    "    if i > 1:\r\n",
    "        break"
   ],
   "outputs": [],
   "metadata": {}
  },
  {
   "cell_type": "code",
   "execution_count": null,
   "source": [
    "def get_data(lat, lng, dt):\r\n",
    "    url=f\"https://api.meteomatics.com/{dt}/t_1000m:F,t_5m:F/{lat},{lng}/json?model=mix\"\r\n",
    "    df = weather.query_api(url=url, username=USER, password=PASSWORD)\r\n",
    "    response = dict(df.json())\r\n",
    "    return response"
   ],
   "outputs": [],
   "metadata": {}
  },
  {
   "cell_type": "code",
   "execution_count": null,
   "source": [
    "r = get_data(33.0455, -105.431, \"1970-01-01T00:00:00.579058Z\")\r\n",
    "r"
   ],
   "outputs": [],
   "metadata": {}
  },
  {
   "cell_type": "code",
   "execution_count": null,
   "source": [],
   "outputs": [],
   "metadata": {}
  },
  {
   "cell_type": "code",
   "execution_count": null,
   "source": [
    "data = response[\"data\"][0][\"coordinates\"][0][\"dates\"]"
   ],
   "outputs": [],
   "metadata": {}
  },
  {
   "cell_type": "code",
   "execution_count": null,
   "source": [
    "df = pd.DataFrame(data)\r\n",
    "df"
   ],
   "outputs": [],
   "metadata": {}
  },
  {
   "cell_type": "code",
   "execution_count": null,
   "source": [
    "fig = px.line(df, x='date', y=\"value\")\r\n",
    "fig"
   ],
   "outputs": [],
   "metadata": {}
  },
  {
   "cell_type": "code",
   "execution_count": null,
   "source": [
    "start = str(dt.datetime.utcnow().isoformat()) + \"Z\"\r\n",
    "range = (df['date'] > start)\r\n",
    "df1 = df.loc[range]\r\n",
    "df1"
   ],
   "outputs": [],
   "metadata": {}
  },
  {
   "cell_type": "code",
   "execution_count": null,
   "source": [
    "max_hs = df1[\"value\"].max()"
   ],
   "outputs": [],
   "metadata": {}
  },
  {
   "cell_type": "code",
   "execution_count": null,
   "source": [
    "from scipy import stats\r\n",
    "\r\n",
    "df.date = pd.to_datetime(df.date)\r\n",
    "df['date_ordinal'] = pd.to_datetime(df['date']).map(dt.datetime.toordinal)\r\n",
    "slope, intercept, r_value, p_value, std_err = stats.linregress(df['date_ordinal'], df['value'])\r\n",
    "print(slope,\r\n",
    "intercept,\r\n",
    "r_value,p_value,\r\n",
    "std_err)"
   ],
   "outputs": [],
   "metadata": {}
  }
 ],
 "metadata": {
  "orig_nbformat": 4,
  "language_info": {
   "name": "python",
   "version": "3.8.10",
   "mimetype": "text/x-python",
   "codemirror_mode": {
    "name": "ipython",
    "version": 3
   },
   "pygments_lexer": "ipython3",
   "nbconvert_exporter": "python",
   "file_extension": ".py"
  },
  "kernelspec": {
   "name": "python3",
   "display_name": "Python 3.8.10 64-bit ('.venv': venv)"
  },
  "interpreter": {
   "hash": "fa6836110a83db4b02353cc258d18bf7a0251b9c92dab5e09abb5c94f9bc153a"
  }
 },
 "nbformat": 4,
 "nbformat_minor": 2
}