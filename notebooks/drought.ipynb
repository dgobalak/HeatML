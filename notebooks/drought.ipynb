{
 "cells": [
  {
   "cell_type": "code",
   "execution_count": null,
   "source": [
    "import pandas as pd\r\n",
    "import seaborn as sns\r\n",
    "import matplotlib.pyplot as plt"
   ],
   "outputs": [],
   "metadata": {}
  },
  {
   "cell_type": "code",
   "execution_count": null,
   "source": [
    "df_soil = pd.read_csv(\"datasets/drought/soil_data.csv\")\r\n",
    "df_test = pd.read_csv(\"datasets/drought/test_timeseries/test_timeseries.csv\")"
   ],
   "outputs": [],
   "metadata": {}
  },
  {
   "cell_type": "code",
   "execution_count": null,
   "source": [
    "df_soil.columns"
   ],
   "outputs": [],
   "metadata": {}
  },
  {
   "cell_type": "code",
   "execution_count": null,
   "source": [
    "df_test.columns"
   ],
   "outputs": [],
   "metadata": {}
  },
  {
   "cell_type": "code",
   "execution_count": null,
   "source": [
    "df_soil\r\n",
    "df_soil['fips'].nunique()"
   ],
   "outputs": [],
   "metadata": {}
  },
  {
   "cell_type": "code",
   "execution_count": null,
   "source": [
    "df_soil = df_soil[[\"fips\", \"lat\", \"lon\", \"elevation\"]]\r\n",
    "df_soil"
   ],
   "outputs": [],
   "metadata": {}
  },
  {
   "cell_type": "code",
   "execution_count": null,
   "source": [
    "import numpy as np"
   ],
   "outputs": [],
   "metadata": {}
  },
  {
   "cell_type": "code",
   "execution_count": null,
   "source": [
    "df_test[[\"lat\", \"lon\", \"elevation\"]] = np.nan\r\n",
    "df_test"
   ],
   "outputs": [],
   "metadata": {}
  },
  {
   "cell_type": "code",
   "execution_count": null,
   "source": [
    "for index, row in df_soil.iterrows():\r\n",
    "    fips = row[\"fips\"]\r\n",
    "    lat = row[\"lat\"]\r\n",
    "    lon = row[\"lon\"]\r\n",
    "    elev = row[\"elevation\"]\r\n",
    "    df_test.loc[(df_test.fips == fips),'lat'] = lat\r\n",
    "    df_test.loc[(df_test.fips == fips),'lon'] = lon\r\n",
    "    df_test.loc[(df_test.fips == fips),'elevation'] = elev\r\n",
    "    print(index)\r\n",
    "df_test"
   ],
   "outputs": [],
   "metadata": {}
  },
  {
   "cell_type": "code",
   "execution_count": null,
   "source": [
    "df_test.to_csv(\"datasets/drought/updated_test_timeseries.csv\")"
   ],
   "outputs": [],
   "metadata": {}
  },
  {
   "cell_type": "code",
   "execution_count": null,
   "source": [
    "df_test['score'].nunique()"
   ],
   "outputs": [],
   "metadata": {}
  },
  {
   "cell_type": "code",
   "execution_count": null,
   "source": [
    "df2 = df_test[~df_test['score'].isnull()]\r\n",
    "df2"
   ],
   "outputs": [],
   "metadata": {}
  },
  {
   "cell_type": "code",
   "execution_count": null,
   "source": [
    "df2.columns"
   ],
   "outputs": [],
   "metadata": {}
  },
  {
   "cell_type": "code",
   "execution_count": null,
   "source": [
    "# 'fips', 'date', \r\n",
    "df3 = df2[['PRECTOT', 'PS', 'QV2M', 'T2M', 'T2MDEW', 'T2MWET', 'T2M_MAX', 'T2M_MIN', 'T2M_RANGE', 'score']]\r\n",
    "df4 = df2[['TS', 'WS10M', 'WS10M_MAX', 'WS10M_MIN', 'WS10M_RANGE', 'WS50M', 'WS50M_MAX', 'WS50M_MIN', 'score']]\r\n",
    "df5 = df2[['WS50M_RANGE', 'lat', 'lon', 'elevation', 'score']]"
   ],
   "outputs": [],
   "metadata": {}
  },
  {
   "cell_type": "code",
   "execution_count": null,
   "source": [
    "cor = df3.corr()\r\n",
    "sns.heatmap(cor, annot=True)\r\n",
    "plt.show()"
   ],
   "outputs": [],
   "metadata": {}
  },
  {
   "cell_type": "code",
   "execution_count": null,
   "source": [
    "cor = df4.corr()\r\n",
    "sns.heatmap(cor, annot=True)\r\n",
    "plt.show()"
   ],
   "outputs": [],
   "metadata": {}
  },
  {
   "cell_type": "code",
   "execution_count": null,
   "source": [
    "cor = df5.corr()\r\n",
    "sns.heatmap(cor, annot=True)\r\n",
    "plt.show()"
   ],
   "outputs": [],
   "metadata": {}
  },
  {
   "cell_type": "markdown",
   "source": [
    "We'll use PS (surface pressure), lon (longitude), elevation as features"
   ],
   "metadata": {}
  },
  {
   "cell_type": "code",
   "execution_count": null,
   "source": [
    "from sklearn.linear_model import LinearRegression\r\n",
    "from sklearn.model_selection import train_test_split\r\n",
    "from sklearn.metrics import r2_score"
   ],
   "outputs": [],
   "metadata": {}
  },
  {
   "cell_type": "code",
   "execution_count": null,
   "source": [
    "X = df2[[\"PS\", \"T2M\", \"lon\", \"elevation\"]]\r\n",
    "y = df2[[\"score\"]]"
   ],
   "outputs": [],
   "metadata": {}
  },
  {
   "cell_type": "code",
   "execution_count": null,
   "source": [
    "X_train, X_test, y_train, y_test = train_test_split(X, y, test_size=0.50)"
   ],
   "outputs": [],
   "metadata": {}
  },
  {
   "cell_type": "code",
   "execution_count": null,
   "source": [
    "lin_regressor = LinearRegression()\r\n",
    "lin_regressor.fit(X_train, y_train)"
   ],
   "outputs": [],
   "metadata": {}
  },
  {
   "cell_type": "code",
   "execution_count": null,
   "source": [
    "y_pred = lin_regressor.predict(X_test)\r\n",
    "y_pred"
   ],
   "outputs": [],
   "metadata": {}
  },
  {
   "cell_type": "code",
   "execution_count": null,
   "source": [
    "r2_score(y_test, y_pred)"
   ],
   "outputs": [],
   "metadata": {}
  },
  {
   "cell_type": "code",
   "execution_count": null,
   "source": [
    "from sklearn.preprocessing import PolynomialFeatures\r\n",
    "from sklearn.pipeline import Pipeline"
   ],
   "outputs": [],
   "metadata": {}
  },
  {
   "cell_type": "code",
   "execution_count": null,
   "source": [
    "poly_reg = PolynomialFeatures(degree=3)\r\n",
    "X_poly = poly_reg.fit_transform(X_train)\r\n",
    "poly_reg.fit(X_poly, y_train)\r\n",
    "lin_reg2 = LinearRegression()\r\n",
    "lin_reg2.fit(X_poly, y_train)\r\n",
    "y_pred2 = lin_regressor.predict(X_test)\r\n",
    "r2_score(y_test, y_pred2)\r\n"
   ],
   "outputs": [],
   "metadata": {}
  }
 ],
 "metadata": {
  "orig_nbformat": 4,
  "language_info": {
   "name": "python",
   "version": "3.8.10",
   "mimetype": "text/x-python",
   "codemirror_mode": {
    "name": "ipython",
    "version": 3
   },
   "pygments_lexer": "ipython3",
   "nbconvert_exporter": "python",
   "file_extension": ".py"
  },
  "kernelspec": {
   "name": "python3",
   "display_name": "Python 3.8.10 64-bit ('.venv': venv)"
  },
  "interpreter": {
   "hash": "fa6836110a83db4b02353cc258d18bf7a0251b9c92dab5e09abb5c94f9bc153a"
  }
 },
 "nbformat": 4,
 "nbformat_minor": 2
}