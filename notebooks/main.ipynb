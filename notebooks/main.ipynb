{
 "cells": [
  {
   "cell_type": "code",
   "execution_count": null,
   "source": [
    "import pandas as pd\r\n",
    "import json\r\n",
    "import plotly\r\n",
    "import plotly.express as px\r\n",
    "import datetime as dt\r\n",
    "from  geopy.geocoders import Nominatim\r\n",
    "import meteomatics.api as weather\r\n",
    "from api_config import *\r\n",
    "import matplotlib.pyplot as plt\r\n",
    "import tensorflow as tf\r\n",
    "from tensorflow import keras"
   ],
   "outputs": [],
   "metadata": {}
  },
  {
   "cell_type": "code",
   "execution_count": null,
   "source": [
    "geolocator = Nominatim(user_agent=\"HeatML\")\r\n",
    "loc = geolocator.geocode(\"Hong Kong\"+','+ \"China\")\r\n",
    "lat = loc.latitude\r\n",
    "lng = loc.longitude\r\n",
    "\r\n",
    "curr_dt = dt.datetime.utcnow()\r\n",
    "prev_dt = curr_dt - dt.timedelta(days=100)\r\n",
    "curr_dt = dt.datetime.utcnow() + dt.timedelta(days=1)\r\n",
    "curr_dt = str(curr_dt.isoformat()) + \"Z\"\r\n",
    "prev_dt = str(prev_dt.isoformat()) + \"Z\"\r\n",
    "interval = 1 # hours"
   ],
   "outputs": [],
   "metadata": {}
  },
  {
   "cell_type": "code",
   "execution_count": null,
   "source": [
    "# url=f\"https://api.meteomatics.com/{prev_dt}--{curr_dt}:PT{interval}H/t_apparent:F/{lat},{lng}/json?model=mix\"\r\n",
    "url=f\"https://api.meteomatics.com/{prev_dt}--{curr_dt}:PT{interval}H/t_apparent:F,soil_moisture_deficit:mm,forest_fire_warning:idx,co:ugm3,o3:ugm3,no2:ugm3,t_1000m:F,t_2m:F/{lat},{lng}/json?model=mix\""
   ],
   "outputs": [],
   "metadata": {}
  },
  {
   "cell_type": "code",
   "execution_count": null,
   "source": [
    "df = weather.query_api(url=url, username=USER, password=PASSWORD)\r\n",
    "response = dict(df.json())\r\n",
    "response"
   ],
   "outputs": [],
   "metadata": {}
  },
  {
   "cell_type": "code",
   "execution_count": null,
   "source": [
    "data = response[\"data\"]\r\n",
    "apparent, soil, fire, co, o3, no2, t1000, t2 = data\r\n",
    "apparent, soil, fire, co, o3, no2, t1000, t2 = apparent[\"coordinates\"][0][\"dates\"], soil[\"coordinates\"][0][\"dates\"], fire[\"coordinates\"][0][\"dates\"], co[\"coordinates\"][0][\"dates\"], o3[\"coordinates\"][0][\"dates\"], no2[\"coordinates\"][0][\"dates\"], t1000[\"coordinates\"][0][\"dates\"], t2[\"coordinates\"][0][\"dates\"]"
   ],
   "outputs": [],
   "metadata": {}
  },
  {
   "cell_type": "code",
   "execution_count": null,
   "source": [
    "df1 = pd.DataFrame(apparent).rename(columns={\"value\": \"Heat Index (F)\", \"date\": \"Datetime\"})\r\n",
    "df2 = pd.DataFrame(soil).rename(columns={\"value\": \"Soil Moisture (mm)\", \"date\": \"Datetime\"})\r\n",
    "df3 = pd.DataFrame(fire).rename(columns={\"value\": \"Forest Fire Index\", \"date\": \"Datetime\"})\r\n",
    "df4 = pd.DataFrame(co).rename(columns={\"value\": \"Carbon Monoxide (ugm3)\", \"date\": \"Datetime\"})\r\n",
    "df5 = pd.DataFrame(o3).rename(columns={\"value\": \"Ozone (ugm3)\", \"date\": \"Datetime\"})\r\n",
    "df6 = pd.DataFrame(no2).rename(columns={\"value\": \"Nitrogen Dioxide (ugm3)\", \"date\": \"Datetime\"})\r\n",
    "df7 = pd.DataFrame(t1000).rename(columns={\"value\": \"Temp @ 1km (F)\", \"date\": \"Datetime\"})\r\n",
    "df8 = pd.DataFrame(t2).rename(columns={\"value\": \"Temp @ 2m (F)\", \"date\": \"Datetime\"})\r\n",
    "df = df1\r\n",
    "df[\"Soil Moisture (mm)\"] = df2[\"Soil Moisture (mm)\"]\r\n",
    "df[\"Forest Fire Index\"] = df3[\"Forest Fire Index\"]\r\n",
    "df[\"Carbon Monoxide (ugm3)\"] = df4[\"Carbon Monoxide (ugm3)\"]\r\n",
    "df[\"Ozone (ugm3)\"] = df5[\"Ozone (ugm3)\"]\r\n",
    "df[\"Nitrogen Dioxide (ugm3)\"] = df6[\"Nitrogen Dioxide (ugm3)\"]\r\n",
    "df\r\n"
   ],
   "outputs": [],
   "metadata": {}
  },
  {
   "cell_type": "code",
   "execution_count": null,
   "source": [
    "fig = px.line(df, x='Datetime', y=[\"Ozone (ugm3)\", \"Nitrogen Dioxide (ugm3)\"])\r\n",
    "fig"
   ],
   "outputs": [],
   "metadata": {}
  },
  {
   "cell_type": "code",
   "execution_count": null,
   "source": [
    "def show_heatmap(df):\r\n",
    "    plt.matshow(df.corr())\r\n",
    "    plt.xticks(range(df.shape[1]), df.columns, fontsize=14, rotation=90)\r\n",
    "    plt.gca().xaxis.tick_bottom()\r\n",
    "    plt.yticks(range(df.shape[1]), df.columns, fontsize=14)\r\n",
    "\r\n",
    "    cb = plt.colorbar()\r\n",
    "    cb.ax.tick_params(labelsize=14)\r\n",
    "    plt.title(\"Feature Correlation Heatmap\", fontsize=14)\r\n",
    "    plt.show()\r\n",
    "\r\n",
    "show_heatmap(df)\r\n",
    "# df.columns"
   ],
   "outputs": [],
   "metadata": {}
  },
  {
   "cell_type": "code",
   "execution_count": null,
   "source": [
    "from scipy import stats\r\n",
    "\r\n",
    "# df[\"Datetime\"] = pd.to_datetime(df[\"Datetime\"])\r\n",
    "# df['date_ordinal'] = pd.to_datetime(df['Datetime']).map(dt.datetime.toordinal)\r\n",
    "# slope, intercept, r_value, p_value, std_err = stats.linregress(df['date_ordinal'], df['Heat Index (F)'])\r\n",
    "# print(slope,\r\n",
    "# intercept,\r\n",
    "# r_value,p_value,\r\n",
    "# std_err)"
   ],
   "outputs": [],
   "metadata": {}
  },
  {
   "cell_type": "code",
   "execution_count": null,
   "source": [
    "df.index = df['Datetime']\r\n",
    "df = df[['Heat Index (F)', 'Soil Moisture (mm)', 'Forest Fire Index',\r\n",
    "       'Carbon Monoxide (ugm3)', 'Ozone (ugm3)', 'Nitrogen Dioxide (ugm3)']]\r\n",
    "df"
   ],
   "outputs": [],
   "metadata": {}
  },
  {
   "cell_type": "code",
   "execution_count": null,
   "source": [
    "# fig = px.line(df, x='Datetime', y=[\"Heat Index (F)\"])\r\n",
    "# fig\r\n",
    "df_hi = df[\"Heat Index (F)\"]\r\n",
    "df_hi.plot(figsize=(15,10))"
   ],
   "outputs": [],
   "metadata": {}
  },
  {
   "cell_type": "code",
   "execution_count": null,
   "source": [
    "hi_df_mean = df[\"Heat Index (F)\"].rolling(window=30).mean()\r\n",
    "hi_df_mean.plot(figsize=(20,15))"
   ],
   "outputs": [],
   "metadata": {}
  },
  {
   "cell_type": "code",
   "execution_count": null,
   "source": [
    "from statsmodels.tsa.seasonal import seasonal_decompose\r\n",
    "import statsmodels.api as sm\r\n",
    "result_add = seasonal_decompose(df_hi, model=\"additive\", extrapolate_trend='freq', period=365)\r\n",
    "\r\n",
    "plt.rcParams.update({'figure.figsize': (10,10)})\r\n",
    "result_add.plot().suptitle('Additive Decomposition', fontsize=22)\r\n",
    "plt.show()"
   ],
   "outputs": [],
   "metadata": {}
  },
  {
   "cell_type": "code",
   "execution_count": null,
   "source": [
    "hi_trend = pd.DataFrame(result_add.trend)[\"trend\"]\r\n",
    "hi_trend"
   ],
   "outputs": [],
   "metadata": {}
  },
  {
   "cell_type": "code",
   "execution_count": null,
   "source": [
    "import itertools\r\n",
    "p=d=q=range(0,2)\r\n",
    "pdq=list(itertools.product(p,d,q))\r\n",
    "seasonal_pdq=[(x[0], x[1], x[2], 12) for x in list(itertools.product(p, d, q))]"
   ],
   "outputs": [],
   "metadata": {}
  },
  {
   "cell_type": "code",
   "execution_count": null,
   "source": [
    "import warnings\r\n",
    "warnings.filterwarnings(\"ignore\")\r\n",
    "max_AIC = 1e20\r\n",
    "par = None\r\n",
    "seas_par = None\r\n",
    "\r\n",
    "for param in pdq:\r\n",
    "    for param_seasonal in seasonal_pdq:\r\n",
    "        try:\r\n",
    "            mod = sm.tsa.statespace.SARIMAX(\r\n",
    "                df[\"Heat Index (F)\"],\r\n",
    "                order=param,\r\n",
    "                seasonal_order=param_seasonal,\r\n",
    "                enforce_stationarity=False,\r\n",
    "                enforce_invertibility=False\r\n",
    "            )\r\n",
    "            results=mod.fit()\r\n",
    "            if results.aic < max_AIC:\r\n",
    "                max_AIC = results.aic\r\n",
    "                par = param\r\n",
    "                seas_par = param_seasonal\r\n",
    "        except:\r\n",
    "            continue\r\n",
    "print(max_AIC, par, seas_par)"
   ],
   "outputs": [],
   "metadata": {}
  },
  {
   "cell_type": "code",
   "execution_count": null,
   "source": [
    "mod = sm.tsa.statespace.SARIMAX(\r\n",
    "    df_hi,\r\n",
    "    order=par,\r\n",
    "    seasonal_order=seas_par,\r\n",
    "    enforce_stationarity=False,\r\n",
    "    enforce_invertibility=False\r\n",
    ")\r\n",
    "results = mod.fit()"
   ],
   "outputs": [],
   "metadata": {}
  },
  {
   "cell_type": "code",
   "execution_count": null,
   "source": [
    "results.plot_diagnostics(figsize=(15,12))\r\n",
    "plt.show()"
   ],
   "outputs": [],
   "metadata": {}
  },
  {
   "cell_type": "code",
   "execution_count": null,
   "source": [
    "pred = results.forecast(steps=200, dynamic=False, full_results=True)\r\n",
    "df_pred = pd.DataFrame(pred)\r\n",
    "df_pred"
   ],
   "outputs": [],
   "metadata": {}
  },
  {
   "cell_type": "code",
   "execution_count": null,
   "source": [
    "mn = df_pred[\"predicted_mean\"].mean()\r\n",
    "df_pred[\"Heat Index (F)\"] = df_pred[\"predicted_mean\"] + ((df_pred[\"predicted_mean\"] - mn) * 2)\r\n"
   ],
   "outputs": [],
   "metadata": {}
  },
  {
   "cell_type": "code",
   "execution_count": null,
   "source": [
    "import plotly.graph_objects as go\r\n",
    "# set up plotly figure\r\n",
    "df_hi = pd.DataFrame(df_hi)\r\n",
    "fig = go.Figure()\r\n",
    "\r\n",
    "# add line / trace 1 to figure\r\n",
    "fig.add_trace(go.Line(\r\n",
    "    x=df_hi.index,\r\n",
    "    y=df_hi['Heat Index (F)'],\r\n",
    "    # hovertext=df['A_info'],\r\n",
    "    # hoverinfo=\"text\",\r\n",
    "    marker=dict(\r\n",
    "        color=\"blue\"\r\n",
    "    ),\r\n",
    "    showlegend=False\r\n",
    "))\r\n",
    "\r\n",
    "# add line / trace 2 to figure\r\n",
    "fig.add_trace(go.Line(\r\n",
    "    x=df_pred.index,\r\n",
    "    y=df_pred['Heat Index (F)'],\r\n",
    "    # hovertext=df['B_info'],\r\n",
    "    # hoverinfo=\"text\",\r\n",
    "    marker=dict(\r\n",
    "        color=\"red\"\r\n",
    "    ),\r\n",
    "    showlegend=False\r\n",
    "))\r\n",
    "\r\n",
    "fig.show()"
   ],
   "outputs": [],
   "metadata": {}
  },
  {
   "cell_type": "code",
   "execution_count": null,
   "source": [
    "df_all_hi = df_hi.append(df_pred) \r\n",
    "# fig = px.line(df, x='Datetime', y=\"Forest Fire Index\", title=\"Forest Fire Index Time Series\")\r\n",
    "df_all_hi = pd.DataFrame(df_all_hi[\"Heat Index (F)\"])\r\n",
    "df_all_hi"
   ],
   "outputs": [],
   "metadata": {}
  },
  {
   "cell_type": "code",
   "execution_count": null,
   "source": [
    "df"
   ],
   "outputs": [],
   "metadata": {}
  },
  {
   "cell_type": "code",
   "execution_count": null,
   "source": [
    "from scipy import stats\r\n",
    "\r\n",
    "df_tmp = df\r\n",
    "df_tmp[\"date\"] = pd.to_datetime(df_tmp[\"Datetime\"])\r\n",
    "df_tmp['date_ordinal'] = pd.to_datetime(df_tmp['Datetime']).map(dt.datetime.toordinal)\r\n",
    "slope_hi = stats.linregress(df['date_ordinal'], df[\"Forest Fire Index\"]).slope\r\n",
    "last_hi = df[\"Forest Fire Index\"].iat[-1]\r\n",
    "last_hi + slope_hi * 100"
   ],
   "outputs": [],
   "metadata": {}
  },
  {
   "cell_type": "code",
   "execution_count": null,
   "source": [
    "fig = px.line(df, x='Datetime', y=[\"Ozone (ugm3)\", \"Nitrogen Dioxide (ugm3)\", \"Carbon Monoxide (ugm3)\"])\r\n",
    "fig"
   ],
   "outputs": [],
   "metadata": {}
  }
 ],
 "metadata": {
  "orig_nbformat": 4,
  "language_info": {
   "name": "python",
   "version": "3.8.10",
   "mimetype": "text/x-python",
   "codemirror_mode": {
    "name": "ipython",
    "version": 3
   },
   "pygments_lexer": "ipython3",
   "nbconvert_exporter": "python",
   "file_extension": ".py"
  },
  "kernelspec": {
   "name": "python3",
   "display_name": "Python 3.8.10 64-bit ('.venv': venv)"
  },
  "interpreter": {
   "hash": "fa6836110a83db4b02353cc258d18bf7a0251b9c92dab5e09abb5c94f9bc153a"
  }
 },
 "nbformat": 4,
 "nbformat_minor": 2
}